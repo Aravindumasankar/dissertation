{
 "cells": [
  {
   "cell_type": "code",
   "execution_count": null,
   "metadata": {
    "collapsed": true
   },
   "outputs": [],
   "source": [
    "# -*- coding: utf-8 -*-\n",
    "# segmentation.py\n",
    "# this file is material part of of the dissertation 'Deep Learning for Emotion Recognition in Cartoons'\n",
    "# [c] 2016-2017 John Wesley Hill\n",
    "\n",
    "import os\n",
    "import cv2\n",
    "import numpy as np"
   ]
  },
  {
   "cell_type": "code",
   "execution_count": null,
   "metadata": {
    "collapsed": true
   },
   "outputs": [],
   "source": [
    "# settings\n",
    "videopath = './No Sound/'\n",
    "exclusion = {\n",
    "\t'.DS_Store'\n",
    "}"
   ]
  },
  {
   "cell_type": "code",
   "execution_count": null,
   "metadata": {
    "collapsed": true
   },
   "outputs": [],
   "source": [
    "# gets the import location for videos (dataset).\n",
    "def get_dataset(videopath=videopath):\n",
    "\tvideos = os.listdir(os.path.dirname(videopath))\n",
    "\tfor item in videos:\n",
    "\t\tif item in exclusion:\n",
    "\t\t\tvideos.remove(item)\n",
    "\treturn videos"
   ]
  },
  {
   "cell_type": "code",
   "execution_count": null,
   "metadata": {
    "collapsed": true
   },
   "outputs": [],
   "source": [
    "# detect character by using a custom trained haar cascade for each character.\n",
    "def detect(character, video, show_video=True):\n",
    "\tcap = cv2.VideoCapture(videopath + video)\t\n",
    "\tface_cascade = cv2.CascadeClassifier(character['cascade'])\n",
    "\tresults_path = os.path.join('results/' + \"tom_or_jerry\")\n",
    "\t\n",
    "\t# make a folder in results for our recognised faces.\n",
    "\tif not os.path.exists(results_path) and character['save'] == True:\n",
    "\t\tos.mkdir(results_path)\n",
    "\t"
   ]
  },
  {
   "cell_type": "code",
   "execution_count": null,
   "metadata": {
    "collapsed": true
   },
   "outputs": [],
   "source": [
    "\twhile(1):\n",
    "\t\t# grab a frame.\n",
    "\t\tret, frame = cap.read()\n",
    "\t\tfaces = None\n",
    "\t\t\n",
    "\t\tif character['name'] == \"Tom\":\n",
    "\t\t\t# detect faces in our image.\n",
    "\t\t\tfaces = face_cascade.detectMultiScale(frame, \n",
    "\t\t\t\t\t\tscaleFactor=1.10, \n",
    "\t\t\t\t\t\tminNeighbors=40, \n",
    "\t\t\t\t\t\tminSize=(24, 24), \n",
    "\t\t\t\t\t\tflags=cv2.cv.CV_HAAR_SCALE_IMAGE\n",
    "\t\t\t)\n",
    "\t\telse:\n",
    "\t\t\tfaces = face_cascade.detectMultiScale(frame, \n",
    "\t\t\t\t\t\tscaleFactor=1.10, \n",
    "\t\t\t\t\t\tminNeighbors=20, \n",
    "\t\t\t\t\t\tminSize=(24, 24), \n",
    "\t\t\t\t\t\tflags=cv2.cv.CV_HAAR_SCALE_IMAGE\n",
    "\t\t\t)"
   ]
  },
  {
   "cell_type": "code",
   "execution_count": null,
   "metadata": {
    "collapsed": true
   },
   "outputs": [],
   "source": [
    "\t\t\t\n",
    "\t\t# loop over detected faces.\n",
    "\t\tfor (x, y, w, h) in faces:\n",
    "\t\t\t# setup region of interest (ROI) for the captured face.\n",
    "\t\t\troi = frame[y:y+h, x:x+w]\n",
    "\t\t\t\n",
    "\t\t\tframe_number = str(int(cap.get(cv2.cv.CV_CAP_PROP_POS_FRAMES)))\n",
    "\t\t\t\n",
    "\t\t\t# write detected face to disk.\n",
    "\t\t\tif character['save'] == True:\n",
    "\t\t\t\tcv2.imwrite(results_path + '/' + \"tom_or_jerry\" + '_frame_' + frame_number + '.png', roi)\n",
    "\t\t\t\n",
    "\t\t\tif show_video is True:\n",
    "\t\t\t\t# display detection box for visual purposes.\n",
    "\t\t\t\tcv2.rectangle(frame, (x, y), (x+w, y+h), character['detect_color'], 2)\n",
    "\t\t\t\tcv2.putText(frame, character['name'], (x, y - 10), cv2.FONT_HERSHEY_SIMPLEX, 0.55, (0, 255, 0), 2)\n",
    "\t\t\telse:\n",
    "\t\t\t\tprint 'detected face @ frame ' + frame_number\n",
    "\t\t\n",
    "\t\tif show_video is True:\n",
    "\t\t\t# display our image.\n",
    "\t\t\ttry:\n",
    "\t\t\t cv2.imshow('frame', frame)\n",
    "\t\t\texcept:\n",
    "\t\t\t break\n",
    "\t\t\t\n",
    "\t\t\t# quit or (next video) on esc.\n",
    "\t\t\tesc = cv2.waitKey(30) & 0xff\n",
    "\t\t\tif esc == 27:\n",
    "\t\t\t\tbreak\n",
    "\n",
    "\t# destroy & release resources.\n",
    "\tcv2.destroyAllWindows()\n",
    "\tcap.release()\n",
    "\t"
   ]
  },
  {
   "cell_type": "code",
   "execution_count": null,
   "metadata": {
    "collapsed": true
   },
   "outputs": [],
   "source": [
    "# process all our videos.\n",
    "def process(character):\n",
    "\tvideos = get_dataset()\n",
    "\tprint 'number of videos: ' + str(len(videos))\n",
    "\t\n",
    "\tfor video in enumerate(videos):\n",
    "\t\tepisode = video[1].split('- ')[1].split('(')[0].strip()\n",
    "\t\t\t\t\n",
    "\t\t# dump frames and save to disk each character.\n",
    "\t\tprint 'attempting to detect ' + character['name'] +  ' in \\'' + episode + '\\''\n",
    "\n",
    "\t\t# detect our character.\n",
    "\t\tdetect(character, video[1], show_video=True)"
   ]
  },
  {
   "cell_type": "code",
   "execution_count": null,
   "metadata": {
    "collapsed": true
   },
   "outputs": [],
   "source": [
    "# step 1: prepare our results folder.\n",
    "if not os.path.exists('results'):\n",
    "    os.mkdir('results')"
   ]
  },
  {
   "cell_type": "code",
   "execution_count": null,
   "metadata": {
    "collapsed": true
   },
   "outputs": [],
   "source": [
    "# step 2: process all our videos to detect Tom & Jerry.\n",
    "characters = [\n",
    "    {\n",
    "        'name':      \"Tom\",\n",
    "        'detect_color': (165, 91, 0),\n",
    "        'save':\t\t True,\n",
    "        'cascade':   'tom.xml'\n",
    "    },\n",
    "    {\n",
    "        'name':      \"Jerry\",\n",
    "        'detect_color': (165, 100, 0),\n",
    "        'save':\t\t True,\n",
    "        'cascade':   'jerry.xml'\n",
    "    }\n",
    "]"
   ]
  },
  {
   "cell_type": "code",
   "execution_count": null,
   "metadata": {
    "collapsed": true
   },
   "outputs": [],
   "source": [
    "# process characters...\n",
    "[process(character) for character in characters]\n",
    "print 'done'"
   ]
  }
 ],
 "metadata": {
  "kernelspec": {
   "display_name": "Python 2",
   "language": "python",
   "name": "python2"
  },
  "language_info": {
   "codemirror_mode": {
    "name": "ipython",
    "version": 2
   },
   "file_extension": ".py",
   "mimetype": "text/x-python",
   "name": "python",
   "nbconvert_exporter": "python",
   "pygments_lexer": "ipython2",
   "version": "2.7.13"
  }
 },
 "nbformat": 4,
 "nbformat_minor": 2
}
